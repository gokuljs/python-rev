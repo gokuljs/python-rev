{
 "cells": [
  {
   "cell_type": "code",
   "execution_count": 1,
   "metadata": {},
   "outputs": [],
   "source": [
    "# collections module in python \n",
    "# This module implements specialized container datatypes providing alternatives to Python’s general purpose built-in containers, dict, list, set, and tuple.\n",
    "\n"
   ]
  },
  {
   "cell_type": "code",
   "execution_count": 2,
   "metadata": {},
   "outputs": [],
   "source": [
    "# collections are a type of container data types \n"
   ]
  },
  {
   "cell_type": "code",
   "execution_count": 3,
   "metadata": {},
   "outputs": [
    {
     "name": "stdout",
     "output_type": "stream",
     "text": [
      "course(name='ml', technology='gokul')\n"
     ]
    }
   ],
   "source": [
    "from collections import namedtuple\n",
    "a=namedtuple('course','name,technology')\n",
    "s=a('ml','gokul')\n",
    "print(s)"
   ]
  },
  {
   "cell_type": "code",
   "execution_count": 4,
   "metadata": {},
   "outputs": [
    {
     "name": "stdout",
     "output_type": "stream",
     "text": [
      "deque(['g', '0', 'k', 'u', 'l'])\n",
      "deque(['g', '0', 'k', 'u', 'l', 'python'])\n",
      "deque(['gokul', 'g', '0', 'k', 'u', 'l', 'python'])\n",
      "deque(['gokul', 'g', '0', 'k', 'u', 'l'])\n",
      "deque(['g', '0', 'k', 'u', 'l'])\n"
     ]
    }
   ],
   "source": [
    "from collections import deque\n",
    "# deque is a optikised to perform inserion and deletion in the list \n",
    "a=['g','0','k','u','l']\n",
    "d=deque(a)\n",
    "print(d)\n",
    "d.append('python')\n",
    "print(d)\n",
    "d.appendleft('gokul')\n",
    "print(d)\n",
    "d.pop()\n",
    "print(d)\n",
    "d.popleft()\n",
    "print(d)"
   ]
  },
  {
   "cell_type": "code",
   "execution_count": 5,
   "metadata": {},
   "outputs": [
    {
     "name": "stdout",
     "output_type": "stream",
     "text": [
      "ChainMap({1: 'gokul js ', 2: 'engineering'}, {3: 'ml', 4: 'ai'})\n"
     ]
    }
   ],
   "source": [
    "# chainmap \n",
    "# chainmap is dictonary like class for creating single view of multiple mapping \n",
    "from collections import ChainMap\n",
    "a={\n",
    "    1:\"gokul js \",\n",
    "    2:\"engineering\"\n",
    "}\n",
    "b={\n",
    "    3:\"ml\",\n",
    "    4:\"ai\"\n",
    "  }\n",
    "c=ChainMap(a,b)\n",
    "print(c)"
   ]
  },
  {
   "cell_type": "code",
   "execution_count": 6,
   "metadata": {},
   "outputs": [
    {
     "name": "stdout",
     "output_type": "stream",
     "text": [
      "Counter({4: 12, 3: 7, 6: 6, 2: 4, 1: 1, 7: 1, 8: 1, 989: 1, 22: 1, 12: 1})\n"
     ]
    }
   ],
   "source": [
    "# counter is a dictionary subclass whiich is used to count hasable objhects \n",
    "from collections import Counter \n",
    "A=[1,2,3,3,3,3,3,3,3,4,4,4,4,4,4,4,4,4,4,4,4,6,6,6,6,6,6,7,8,989,22,2,2,2,12]\n",
    "r=Counter(A)\n",
    "print(r)"
   ]
  },
  {
   "cell_type": "code",
   "execution_count": 7,
   "metadata": {},
   "outputs": [
    {
     "name": "stdout",
     "output_type": "stream",
     "text": [
      "Counter({4: 12, 3: 7, 6: 6, 2: 4, 1: 1, 7: 1, 8: 1, 989: 1, 22: 1, 12: 1})\n",
      "[1, 2, 2, 2, 2, 3, 3, 3, 3, 3, 3, 3, 4, 4, 4, 4, 4, 4, 4, 4, 4, 4, 4, 4, 6, 6, 6, 6, 6, 6, 7, 8, 989, 22, 12]\n"
     ]
    }
   ],
   "source": [
    "# couter has three major functions such as \n",
    "# printing elelment functions in python\n",
    "print(r)\n",
    "print(list(r.elements()))"
   ]
  },
  {
   "cell_type": "code",
   "execution_count": 8,
   "metadata": {},
   "outputs": [
    {
     "name": "stdout",
     "output_type": "stream",
     "text": [
      "[(4, 12), (3, 7), (6, 6), (2, 4), (1, 1), (7, 1), (8, 1), (989, 1), (22, 1), (12, 1)]\n"
     ]
    }
   ],
   "source": [
    "# counter of most commonfunction\n",
    "print(r.most_common())\n",
    "sub={}"
   ]
  },
  {
   "cell_type": "code",
   "execution_count": 9,
   "metadata": {},
   "outputs": [
    {
     "name": "stdout",
     "output_type": "stream",
     "text": [
      "Counter({2: 3, 1: 2, 3: 1})\n",
      "3\n",
      "2\n",
      "counter values \n",
      "2\n",
      "5\n",
      "4\n"
     ]
    }
   ],
   "source": [
    "# picking numbers solving using counter \n",
    "from collections import Counter\n",
    "a=[1,2,2,3,1,2]\n",
    "c=Counter(a)\n",
    "print(c)\n",
    "print(len(c))\n",
    "n=len(c)\n",
    "print(c[1])\n",
    "print(\"counter values \")\n",
    "for i in range(n):\n",
    "    print(c[i]+c[i+1])"
   ]
  },
  {
   "cell_type": "code",
   "execution_count": 10,
   "metadata": {},
   "outputs": [],
   "source": [
    "# classes and objects "
   ]
  },
  {
   "cell_type": "code",
   "execution_count": 11,
   "metadata": {},
   "outputs": [
    {
     "name": "stdout",
     "output_type": "stream",
     "text": [
      "gkgkgkgk the dog barks\n"
     ]
    }
   ],
   "source": [
    "class Dog:\n",
    "    def __init__(self,height=0,weight=0,name=\"\"):\n",
    "        self.height=height\n",
    "        self.name=name\n",
    "        self.weight=weight\n",
    "    def run(self):\n",
    "        print(\"{} the dog barks\".format(self.name))\n",
    "    \n",
    "    def eat(self):\n",
    "        print(\"{} the dog eats\".format(self.name))\n",
    "   \n",
    "def main():\n",
    "    spot=Dog(33,50,\"gkgkgkgk\")\n",
    "    spot.run()\n",
    "main()"
   ]
  },
  {
   "cell_type": "code",
   "execution_count": 12,
   "metadata": {},
   "outputs": [
    {
     "name": "stdout",
     "output_type": "stream",
     "text": [
      "enter your length4\n",
      "enter your breath4\n",
      "16\n",
      "16\n"
     ]
    }
   ],
   "source": [
    "class area():\n",
    "    def __init__(self,length=0,breath=0):\n",
    "        self.length=length\n",
    "        self.breath=breath\n",
    "    def square(self):\n",
    "        print(self.length*self.length)\n",
    "    def rectangle(self):\n",
    "        print(self.length*self.breath)\n",
    "def main():\n",
    "    l=int(input(\"enter your length\"))\n",
    "    b=int(input(\"enter your breath\"))\n",
    "    s=area(l,b)\n",
    "    s.square()\n",
    "    s.rectangle()\n",
    "main()"
   ]
  },
  {
   "cell_type": "code",
   "execution_count": 13,
   "metadata": {},
   "outputs": [
    {
     "name": "stdout",
     "output_type": "stream",
     "text": [
      "enter your length4\n",
      "enter your breath4\n",
      "32\n"
     ]
    }
   ],
   "source": [
    "class area():\n",
    "    def __init__(self,length=0,breath=0):\n",
    "        self.length=length\n",
    "        self.breath=breath\n",
    "    def square(self):\n",
    "        return self.length*self.length\n",
    "    def rectangle(self):\n",
    "        return self.length*self.breath\n",
    "def main():\n",
    "    l=int(input(\"enter your length\"))\n",
    "    b=int(input(\"enter your breath\"))\n",
    "    s=area(l,b)\n",
    "    k=s.square()\n",
    "    a=s.rectangle()\n",
    "    print(k+a)\n",
    "main()"
   ]
  },
  {
   "cell_type": "code",
   "execution_count": 14,
   "metadata": {},
   "outputs": [],
   "source": [
    "# getting started with getters and setters "
   ]
  },
  {
   "cell_type": "code",
   "execution_count": 20,
   "metadata": {},
   "outputs": [
    {
     "ename": "AttributeError",
     "evalue": "'int' object has no attribute 'isdigit'",
     "output_type": "error",
     "traceback": [
      "\u001b[1;31m---------------------------------------------------------------------------\u001b[0m",
      "\u001b[1;31mAttributeError\u001b[0m                            Traceback (most recent call last)",
      "\u001b[1;32m<ipython-input-20-7beab9c37833>\u001b[0m in \u001b[0;36m<module>\u001b[1;34m\u001b[0m\n\u001b[0;32m     53\u001b[0m     \u001b[0mprint\u001b[0m\u001b[1;33m(\u001b[0m\u001b[0masqaure\u001b[0m\u001b[1;33m.\u001b[0m\u001b[0mwidth\u001b[0m\u001b[1;33m)\u001b[0m\u001b[1;33m\u001b[0m\u001b[1;33m\u001b[0m\u001b[0m\n\u001b[0;32m     54\u001b[0m     \u001b[0mprint\u001b[0m\u001b[1;33m(\u001b[0m\u001b[0masqaure\u001b[0m\u001b[1;33m.\u001b[0m\u001b[0mgetarea\u001b[0m\u001b[1;33m(\u001b[0m\u001b[1;33m)\u001b[0m\u001b[1;33m)\u001b[0m\u001b[1;33m\u001b[0m\u001b[1;33m\u001b[0m\u001b[0m\n\u001b[1;32m---> 55\u001b[1;33m \u001b[0mmain\u001b[0m\u001b[1;33m(\u001b[0m\u001b[1;33m)\u001b[0m\u001b[1;33m\u001b[0m\u001b[1;33m\u001b[0m\u001b[0m\n\u001b[0m",
      "\u001b[1;32m<ipython-input-20-7beab9c37833>\u001b[0m in \u001b[0;36mmain\u001b[1;34m()\u001b[0m\n\u001b[0;32m     45\u001b[0m \u001b[1;33m\u001b[0m\u001b[0m\n\u001b[0;32m     46\u001b[0m \u001b[1;32mdef\u001b[0m \u001b[0mmain\u001b[0m\u001b[1;33m(\u001b[0m\u001b[1;33m)\u001b[0m\u001b[1;33m:\u001b[0m\u001b[1;33m\u001b[0m\u001b[1;33m\u001b[0m\u001b[0m\n\u001b[1;32m---> 47\u001b[1;33m     \u001b[0masqaure\u001b[0m\u001b[1;33m=\u001b[0m\u001b[0mSqaure\u001b[0m\u001b[1;33m(\u001b[0m\u001b[1;33m)\u001b[0m\u001b[1;33m\u001b[0m\u001b[1;33m\u001b[0m\u001b[0m\n\u001b[0m\u001b[0;32m     48\u001b[0m     \u001b[0mheight\u001b[0m\u001b[1;33m=\u001b[0m\u001b[0minput\u001b[0m\u001b[1;33m(\u001b[0m\u001b[1;34m\"enter the height\"\u001b[0m\u001b[1;33m)\u001b[0m\u001b[1;33m\u001b[0m\u001b[1;33m\u001b[0m\u001b[0m\n\u001b[0;32m     49\u001b[0m     \u001b[0mwidth\u001b[0m\u001b[1;33m=\u001b[0m\u001b[0minput\u001b[0m\u001b[1;33m(\u001b[0m\u001b[1;34m\"enter the width\"\u001b[0m\u001b[1;33m)\u001b[0m\u001b[1;33m\u001b[0m\u001b[1;33m\u001b[0m\u001b[0m\n",
      "\u001b[1;32m<ipython-input-16-dc333699c548>\u001b[0m in \u001b[0;36m__init__\u001b[1;34m(self, height, width)\u001b[0m\n\u001b[0;32m      1\u001b[0m \u001b[1;32mclass\u001b[0m \u001b[0mSqaure\u001b[0m\u001b[1;33m(\u001b[0m\u001b[1;33m)\u001b[0m\u001b[1;33m:\u001b[0m\u001b[1;33m\u001b[0m\u001b[1;33m\u001b[0m\u001b[0m\n\u001b[0;32m      2\u001b[0m     \u001b[1;32mdef\u001b[0m \u001b[0m__init__\u001b[0m\u001b[1;33m(\u001b[0m\u001b[0mself\u001b[0m\u001b[1;33m,\u001b[0m\u001b[0mheight\u001b[0m\u001b[1;33m=\u001b[0m\u001b[1;36m0\u001b[0m\u001b[1;33m,\u001b[0m\u001b[0mwidth\u001b[0m\u001b[1;33m=\u001b[0m\u001b[1;36m0\u001b[0m\u001b[1;33m)\u001b[0m\u001b[1;33m:\u001b[0m\u001b[1;33m\u001b[0m\u001b[1;33m\u001b[0m\u001b[0m\n\u001b[1;32m----> 3\u001b[1;33m            \u001b[0mself\u001b[0m\u001b[1;33m.\u001b[0m\u001b[0mheight\u001b[0m\u001b[1;33m=\u001b[0m\u001b[0mheight\u001b[0m\u001b[1;33m\u001b[0m\u001b[1;33m\u001b[0m\u001b[0m\n\u001b[0m\u001b[0;32m      4\u001b[0m            \u001b[0mself\u001b[0m\u001b[1;33m.\u001b[0m\u001b[0mwidth\u001b[0m\u001b[1;33m=\u001b[0m\u001b[0mwidth\u001b[0m\u001b[1;33m\u001b[0m\u001b[1;33m\u001b[0m\u001b[0m\n\u001b[0;32m      5\u001b[0m     \u001b[1;33m@\u001b[0m\u001b[0mproperty\u001b[0m\u001b[1;33m\u001b[0m\u001b[1;33m\u001b[0m\u001b[0m\n",
      "\u001b[1;32m<ipython-input-16-dc333699c548>\u001b[0m in \u001b[0;36mheight\u001b[1;34m(self, value)\u001b[0m\n\u001b[0;32m     24\u001b[0m     \u001b[1;33m@\u001b[0m\u001b[0mheight\u001b[0m\u001b[1;33m.\u001b[0m\u001b[0msetter\u001b[0m\u001b[1;33m\u001b[0m\u001b[1;33m\u001b[0m\u001b[0m\n\u001b[0;32m     25\u001b[0m     \u001b[1;32mdef\u001b[0m \u001b[0mheight\u001b[0m\u001b[1;33m(\u001b[0m\u001b[0mself\u001b[0m\u001b[1;33m,\u001b[0m\u001b[0mvalue\u001b[0m\u001b[1;33m)\u001b[0m\u001b[1;33m:\u001b[0m\u001b[1;33m\u001b[0m\u001b[1;33m\u001b[0m\u001b[0m\n\u001b[1;32m---> 26\u001b[1;33m         \u001b[1;32mif\u001b[0m \u001b[0mvalue\u001b[0m\u001b[1;33m.\u001b[0m\u001b[0misdigit\u001b[0m\u001b[1;33m(\u001b[0m\u001b[1;33m)\u001b[0m\u001b[1;33m:\u001b[0m\u001b[1;33m\u001b[0m\u001b[1;33m\u001b[0m\u001b[0m\n\u001b[0m\u001b[0;32m     27\u001b[0m             \u001b[0mself\u001b[0m\u001b[1;33m.\u001b[0m\u001b[0m__width\u001b[0m\u001b[1;33m==\u001b[0m\u001b[0mvalue\u001b[0m\u001b[1;33m\u001b[0m\u001b[1;33m\u001b[0m\u001b[0m\n\u001b[0;32m     28\u001b[0m         \u001b[1;32melse\u001b[0m\u001b[1;33m:\u001b[0m\u001b[1;33m\u001b[0m\u001b[1;33m\u001b[0m\u001b[0m\n",
      "\u001b[1;31mAttributeError\u001b[0m: 'int' object has no attribute 'isdigit'"
     ]
    }
   ],
   "source": [
    "class Square:\n",
    "    def __init__(self, height=\"0\", width=\"0\"):\n",
    "        self.height = height\n",
    "        self.width = width\n",
    "    \n",
    "    @property\n",
    "    def height(self):\n",
    "        print(\"retriving the hieght\")\n",
    "        return self.__height\n",
    "    \n",
    "    @height.setter\n",
    "    def height(self, value):\n",
    " \n",
    "        # We protect the height from receiving a bad value\n",
    "        if value.isdigit():\n",
    " \n",
    "            # Put a __ before this private field\n",
    "            self.__height = value\n",
    "        else:\n",
    "            print(\"Please only enter numbers for heig\")\n",
    "    \n",
    "#     @height.setter\n",
    "#     def height(self,value):\n",
    "# #         if value.isdigit():\n",
    "#         if value.isdigit():\n",
    "\n",
    "#             self.__height==value\n",
    "#         else:\n",
    "#             print(\"please onloy enter the numbers\")\n",
    "            \n",
    "    @property\n",
    "    def width(self):\n",
    "        print(\"retriving the width\")\n",
    "        return self.__width\n",
    "    \n",
    "    @height.setter\n",
    "    def height(self,value):\n",
    "        if value.isdigit():\n",
    "            self.__width==value\n",
    "        else:\n",
    "            print(\"please onloy enter the numbers in width\")\n",
    "    \n",
    "    def getarea(self):\n",
    "        return int(self.__width) * int(self.__height)\n",
    "\n",
    "def main():\n",
    "    asqaure=Sqaure()\n",
    "    height=input(\"enter the height\")\n",
    "    width=input(\"enter the width\")\n",
    "    aqaure.height=height\n",
    "    asqaure.width=width\n",
    "    print(asquare.height)\n",
    "    print(asqaure.width)\n",
    "    print(asqaure.getarea())\n",
    "main()"
   ]
  },
  {
   "cell_type": "markdown",
   "metadata": {},
   "source": [
    "class Square:\n",
    "    def __init__(self, height=\"0\", width=\"0\"):\n",
    "        self.height = height\n",
    "        self.width = width\n",
    " \n",
    "    # This is the getter\n",
    "    @property # will allow u to acces the hieght and width\n",
    "    def height(self):\n",
    "        print(\"Retrieving the height\")\n",
    " \n",
    "        # Put a __ before this private field\n",
    "        return self.__height\n",
    " \n",
    "    # This is the setter\n",
    "    @height.setter\n",
    "    def height(self, value):\n",
    " \n",
    "        # We protect the height from receiving a bad value\n",
    "        if value.isdigit():\n",
    " \n",
    "            # Put a __ before this private field\n",
    "            self.__height = value\n",
    "        else:\n",
    "            print(\"Please only enter numbers for height\")\n",
    " \n",
    "    # This is the getter\n",
    "    @property\n",
    "    def width(self):\n",
    "        print(\"Retrieving the width\")\n",
    "        return self.__width\n",
    " \n",
    "    # This is the setter\n",
    "    @width.setter\n",
    "    def width(self, value):\n",
    "        if value.isdigit():\n",
    "            self.__width = value\n",
    "        else:\n",
    "            print(\"Please only enter numbers for width\")\n",
    " \n",
    "    def getArea(self):\n",
    "        return int(self.__width) * int(self.__height)\n",
    " \n",
    " \n",
    "def main():\n",
    "    aSquare = Square()\n",
    " \n",
    "    height = input(\"Enter height : \")\n",
    "    width = input(\"Enter width : \")\n",
    " \n",
    "    aSquare.height = height\n",
    "    aSquare.width = width\n",
    " \n",
    "    print(\"Height :\", aSquare.height)\n",
    "    print(\"Width :\", aSquare.width)\n",
    " \n",
    "    print(\"The Area is :\", aSquare.getArea())\n",
    " \n",
    " \n",
    "main()"
   ]
  },
  {
   "cell_type": "markdown",
   "metadata": {},
   "source": [
    "## class Square:\n",
    "    def __init__(self, height=\"0\", width=\"0\"):\n",
    "        self.height = height\n",
    "        self.width = width\n",
    " \n",
    "    # This is the getter\n",
    "    @property\n",
    "    def height(self):\n",
    "        print(\"Retrieving the height\")\n",
    " \n",
    "        # Put a __ before this private field\n",
    "        return self.__height\n",
    " \n",
    "    # This is the setter\n",
    "    @height.setter\n",
    "    def height(self, value):\n",
    " \n",
    "        # We protect the height from receiving a bad value\n",
    "        if value.isdigit():\n",
    " \n",
    "            # Put a __ before this private field\n",
    "            self.__height = value\n",
    "        else:\n",
    "            print(\"Please only enter numbers for height\")\n",
    " \n",
    "    # This is the getter\n",
    "    @property\n",
    "    def width(self):\n",
    "        print(\"Retrieving the width\")\n",
    "        return self.__width\n",
    " \n",
    "    # This is the setter\n",
    "    @width.setter\n",
    "    def width(self, value):\n",
    "        if value.isdigit():\n",
    "            self.__width = value\n",
    "        else:\n",
    "            print(\"Please only enter numbers for width\")\n",
    " \n",
    "    def getArea(self):\n",
    "        return int(self.__width) * int(self.__height)\n",
    " \n",
    " \n",
    "def main():\n",
    "    aSquare = Square()\n",
    " \n",
    "    height = input(\"Enter height : \")\n",
    "    width = input(\"Enter width : \")\n",
    " \n",
    "    aSquare.height = height\n",
    "    aSquare.width = width\n",
    " \n",
    "    print(\"Height :\", aSquare.height)\n",
    "    print(\"Width :\", aSquare.width)\n",
    " \n",
    "    print(\"The Area is :\", aSquare.getArea())\n",
    " \n",
    " \n",
    "main()"
   ]
  },
  {
   "cell_type": "code",
   "execution_count": null,
   "metadata": {},
   "outputs": [],
   "source": [
    "class Rect():\n",
    "    self __init__(self,height=0):\n",
    "        self.height=height\n",
    "\n",
    "    \n",
    "    @property\n",
    "    def height(self):\n",
    "        print(\"retreiving the value of heigth\")\n",
    "        return self.__height\n",
    "    \n",
    "    @height.setter\n",
    "    def height(self,value):\n",
    "        pritn(value)\n",
    "        if value.isdigit():\n",
    "            self.height=value\n",
    "    def area():\n",
    "        print(int(self.__he9ight))\n",
    "    "
   ]
  }
 ],
 "metadata": {
  "kernelspec": {
   "display_name": "Python 3",
   "language": "python",
   "name": "python3"
  },
  "language_info": {
   "codemirror_mode": {
    "name": "ipython",
    "version": 3
   },
   "file_extension": ".py",
   "mimetype": "text/x-python",
   "name": "python",
   "nbconvert_exporter": "python",
   "pygments_lexer": "ipython3",
   "version": "3.8.3"
  }
 },
 "nbformat": 4,
 "nbformat_minor": 4
}
