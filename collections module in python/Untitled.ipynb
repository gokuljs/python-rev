{
 "cells": [
  {
   "cell_type": "code",
   "execution_count": 1,
   "metadata": {},
   "outputs": [],
   "source": [
    "# collections module in python \n",
    "# This module implements specialized container datatypes providing alternatives to Python’s general purpose built-in containers, dict, list, set, and tuple.\n",
    "\n"
   ]
  },
  {
   "cell_type": "code",
   "execution_count": 4,
   "metadata": {},
   "outputs": [],
   "source": [
    "# collections are a type of container data types \n"
   ]
  },
  {
   "cell_type": "code",
   "execution_count": 7,
   "metadata": {},
   "outputs": [
    {
     "name": "stdout",
     "output_type": "stream",
     "text": [
      "course(name='ml', technology='gokul')\n"
     ]
    }
   ],
   "source": [
    "from collections import namedtuple\n",
    "a=namedtuple('course','name,technology')\n",
    "s=a('ml','gokul')\n",
    "print(s)"
   ]
  },
  {
   "cell_type": "code",
   "execution_count": 17,
   "metadata": {},
   "outputs": [
    {
     "name": "stdout",
     "output_type": "stream",
     "text": [
      "deque(['g', '0', 'k', 'u', 'l'])\n",
      "deque(['g', '0', 'k', 'u', 'l', 'python'])\n",
      "deque(['gokul', 'g', '0', 'k', 'u', 'l', 'python'])\n",
      "deque(['gokul', 'g', '0', 'k', 'u', 'l'])\n",
      "deque(['g', '0', 'k', 'u', 'l'])\n"
     ]
    }
   ],
   "source": [
    "from collections import deque\n",
    "# deque is a optikised to perform inserion and deletion in the list \n",
    "a=['g','0','k','u','l']\n",
    "d=deque(a)\n",
    "print(d)\n",
    "d.append('python')\n",
    "print(d)\n",
    "d.appendleft('gokul')\n",
    "print(d)\n",
    "d.pop()\n",
    "print(d)\n",
    "d.popleft()\n",
    "print(d)"
   ]
  },
  {
   "cell_type": "code",
   "execution_count": 26,
   "metadata": {},
   "outputs": [
    {
     "name": "stdout",
     "output_type": "stream",
     "text": [
      "ChainMap({1: 'gokul js ', 2: 'engineering'}, {3: 'ml', 4: 'ai'})\n"
     ]
    }
   ],
   "source": [
    "# chainmap \n",
    "# chainmap is dictonary like class for creating single view of multiple mapping \n",
    "from collections import ChainMap\n",
    "a={\n",
    "    1:\"gokul js \",\n",
    "    2:\"engineering\"\n",
    "}\n",
    "b={\n",
    "    3:\"ml\",\n",
    "    4:\"ai\"\n",
    "  }\n",
    "c=ChainMap(a,b)\n",
    "print(c)"
   ]
  },
  {
   "cell_type": "code",
   "execution_count": 32,
   "metadata": {},
   "outputs": [
    {
     "name": "stdout",
     "output_type": "stream",
     "text": [
      "Counter({4: 12, 3: 7, 6: 6, 2: 4, 1: 1, 7: 1, 8: 1, 989: 1, 22: 1, 12: 1})\n"
     ]
    }
   ],
   "source": [
    "# counter is a dictionary subclass whiich is used to count hasable objhects \n",
    "from collections import Counter \n",
    "A=[1,2,3,3,3,3,3,3,3,4,4,4,4,4,4,4,4,4,4,4,4,6,6,6,6,6,6,7,8,989,22,2,2,2,12]\n",
    "r=Counter(A)\n",
    "print(r)"
   ]
  },
  {
   "cell_type": "code",
   "execution_count": 35,
   "metadata": {},
   "outputs": [
    {
     "name": "stdout",
     "output_type": "stream",
     "text": [
      "Counter({4: 12, 3: 7, 6: 6, 2: 4, 1: 1, 7: 1, 8: 1, 989: 1, 22: 1, 12: 1})\n",
      "[1, 2, 2, 2, 2, 3, 3, 3, 3, 3, 3, 3, 4, 4, 4, 4, 4, 4, 4, 4, 4, 4, 4, 4, 6, 6, 6, 6, 6, 6, 7, 8, 989, 22, 12]\n"
     ]
    }
   ],
   "source": [
    "# couter has three major functions such as \n",
    "# printing elelment functions in python\n",
    "print(r)\n",
    "print(list(r.elements()))"
   ]
  },
  {
   "cell_type": "code",
   "execution_count": 39,
   "metadata": {},
   "outputs": [
    {
     "name": "stdout",
     "output_type": "stream",
     "text": [
      "[(4, 12), (3, 7), (6, 6), (2, 4), (1, 1), (7, 1), (8, 1), (989, 1), (22, 1), (12, 1)]\n"
     ]
    }
   ],
   "source": [
    "# counter of most commonfunction\n",
    "print(r.most_common())\n",
    "sub={}"
   ]
  },
  {
   "cell_type": "code",
   "execution_count": 57,
   "metadata": {},
   "outputs": [
    {
     "name": "stdout",
     "output_type": "stream",
     "text": [
      "Counter({2: 3, 1: 2, 3: 1})\n",
      "3\n",
      "2\n",
      "counter values \n",
      "2\n",
      "5\n",
      "4\n"
     ]
    }
   ],
   "source": [
    "# picking numbers solving using counter \n",
    "from collections import Counter\n",
    "a=[1,2,2,3,1,2]\n",
    "c=Counter(a)\n",
    "print(c)\n",
    "print(len(c))\n",
    "n=len(c)\n",
    "print(c[1])\n",
    "print(\"counter values \")\n",
    "for i in range(n):\n",
    "    print(c[i]+c[i+1])"
   ]
  },
  {
   "cell_type": "code",
   "execution_count": 58,
   "metadata": {},
   "outputs": [],
   "source": [
    "# classes and objects "
   ]
  },
  {
   "cell_type": "code",
   "execution_count": 67,
   "metadata": {},
   "outputs": [
    {
     "name": "stdout",
     "output_type": "stream",
     "text": [
      "gkgkgkgk the dog barks\n"
     ]
    }
   ],
   "source": [
    "class Dog:\n",
    "    def __init__(self,height=0,weight=0,name=\"\"):\n",
    "        self.height=height\n",
    "        self.name=name\n",
    "        self.weight=weight\n",
    "    def run(self):\n",
    "        print(\"{} the dog barks\".format(self.name))\n",
    "    \n",
    "    def eat(self):\n",
    "        print(\"{} the dog eats\".format(self.name))\n",
    "   \n",
    "def main():\n",
    "    spot=Dog(33,50,\"gkgkgkgk\")\n",
    "    spot.run()\n",
    "main()"
   ]
  },
  {
   "cell_type": "code",
   "execution_count": 71,
   "metadata": {},
   "outputs": [
    {
     "name": "stdout",
     "output_type": "stream",
     "text": [
      "enter your length2\n",
      "enter your breath2\n",
      "4\n",
      "4\n"
     ]
    }
   ],
   "source": [
    "class area():\n",
    "    def __init__(self,length=0,breath=0):\n",
    "        self.length=length\n",
    "        self.breath=breath\n",
    "    def square(self):\n",
    "        print(self.length*self.length)\n",
    "    def rectangle(self):\n",
    "        print(self.length*self.breath)\n",
    "def main():\n",
    "    l=int(input(\"enter your length\"))\n",
    "    b=int(input(\"enter your breath\"))\n",
    "    s=area(l,b)\n",
    "    s.square()\n",
    "    s.rectangle()\n",
    "main()"
   ]
  },
  {
   "cell_type": "code",
   "execution_count": 73,
   "metadata": {},
   "outputs": [
    {
     "name": "stdout",
     "output_type": "stream",
     "text": [
      "enter your length2\n",
      "enter your breath2\n",
      "8\n"
     ]
    }
   ],
   "source": [
    "class area():\n",
    "    def __init__(self,length=0,breath=0):\n",
    "        self.length=length\n",
    "        self.breath=breath\n",
    "    def square(self):\n",
    "        return self.length*self.length\n",
    "    def rectangle(self):\n",
    "        return self.length*self.breath\n",
    "def main():\n",
    "    l=int(input(\"enter your length\"))\n",
    "    b=int(input(\"enter your breath\"))\n",
    "    s=area(l,b)\n",
    "    k=s.square()\n",
    "    a=s.rectangle()\n",
    "    print(k+a)\n",
    "main()"
   ]
  },
  {
   "cell_type": "code",
   "execution_count": null,
   "metadata": {},
   "outputs": [],
   "source": [
    "# getting started with"
   ]
  }
 ],
 "metadata": {
  "kernelspec": {
   "display_name": "Python 3",
   "language": "python",
   "name": "python3"
  },
  "language_info": {
   "codemirror_mode": {
    "name": "ipython",
    "version": 3
   },
   "file_extension": ".py",
   "mimetype": "text/x-python",
   "name": "python",
   "nbconvert_exporter": "python",
   "pygments_lexer": "ipython3",
   "version": "3.8.3"
  }
 },
 "nbformat": 4,
 "nbformat_minor": 4
}
