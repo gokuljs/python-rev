{
 "cells": [
  {
   "cell_type": "code",
   "execution_count": 1,
   "metadata": {},
   "outputs": [],
   "source": [
    "# collections module in python \n",
    "# This module implements specialized container datatypes providing alternatives to Python’s general purpose built-in containers, dict, list, set, and tuple.\n",
    "\n"
   ]
  },
  {
   "cell_type": "code",
   "execution_count": 4,
   "metadata": {},
   "outputs": [],
   "source": [
    "# collections are a type of container data types \n"
   ]
  },
  {
   "cell_type": "code",
   "execution_count": 7,
   "metadata": {},
   "outputs": [
    {
     "name": "stdout",
     "output_type": "stream",
     "text": [
      "course(name='ml', technology='gokul')\n"
     ]
    }
   ],
   "source": [
    "from collections import namedtuple\n",
    "a=namedtuple('course','name,technology')\n",
    "s=a('ml','gokul')\n",
    "print(s)"
   ]
  },
  {
   "cell_type": "code",
   "execution_count": 17,
   "metadata": {},
   "outputs": [
    {
     "name": "stdout",
     "output_type": "stream",
     "text": [
      "deque(['g', '0', 'k', 'u', 'l'])\n",
      "deque(['g', '0', 'k', 'u', 'l', 'python'])\n",
      "deque(['gokul', 'g', '0', 'k', 'u', 'l', 'python'])\n",
      "deque(['gokul', 'g', '0', 'k', 'u', 'l'])\n",
      "deque(['g', '0', 'k', 'u', 'l'])\n"
     ]
    }
   ],
   "source": [
    "from collections import deque\n",
    "# deque is a optikised to perform inserion and deletion in the list \n",
    "a=['g','0','k','u','l']\n",
    "d=deque(a)\n",
    "print(d)\n",
    "d.append('python')\n",
    "print(d)\n",
    "d.appendleft('gokul')\n",
    "print(d)\n",
    "d.pop()\n",
    "print(d)\n",
    "d.popleft()\n",
    "print(d)"
   ]
  },
  {
   "cell_type": "code",
   "execution_count": 26,
   "metadata": {},
   "outputs": [
    {
     "name": "stdout",
     "output_type": "stream",
     "text": [
      "ChainMap({1: 'gokul js ', 2: 'engineering'}, {3: 'ml', 4: 'ai'})\n"
     ]
    }
   ],
   "source": [
    "# chainmap \n",
    "# chainmap is dictonary like class for creating single view of multiple mapping \n",
    "from collections import ChainMap\n",
    "a={\n",
    "    1:\"gokul js \",\n",
    "    2:\"engineering\"\n",
    "}\n",
    "b={\n",
    "    3:\"ml\",\n",
    "    4:\"ai\"\n",
    "  }\n",
    "c=ChainMap(a,b)\n",
    "print(c)"
   ]
  },
  {
   "cell_type": "code",
   "execution_count": null,
   "metadata": {},
   "outputs": [],
   "source": [
    "# counter is a dictionary subclass whiich is used"
   ]
  }
 ],
 "metadata": {
  "kernelspec": {
   "display_name": "Python 3",
   "language": "python",
   "name": "python3"
  },
  "language_info": {
   "codemirror_mode": {
    "name": "ipython",
    "version": 3
   },
   "file_extension": ".py",
   "mimetype": "text/x-python",
   "name": "python",
   "nbconvert_exporter": "python",
   "pygments_lexer": "ipython3",
   "version": "3.8.3"
  }
 },
 "nbformat": 4,
 "nbformat_minor": 4
}
