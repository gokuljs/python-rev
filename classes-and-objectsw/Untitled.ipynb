{
 "cells": [
  {
   "cell_type": "code",
   "execution_count": 5,
   "metadata": {},
   "outputs": [
    {
     "name": "stdout",
     "output_type": "stream",
     "text": [
      "enter the size of matrix 3\n",
      "1 2 3\n",
      "4 5 6\n",
      "7 8 9\n",
      "[[1, 2, 3], [4, 5, 6], [7, 8, 9]]\n"
     ]
    }
   ],
   "source": [
    "n=int(input(\"enter the size of matrix \"))\n",
    "matrix=[]\n",
    "for rows in range(n):\n",
    "    nums=input()\n",
    "    matrix.append([int(x) for x in nums.split()])\n",
    "print(matrix)\n",
    "# now to check given matrix is magic sqaure or not \n",
    "]"
   ]
  },
  {
   "cell_type": "code",
   "execution_count": 1,
   "metadata": {},
   "outputs": [
    {
     "data": {
      "text/plain": [
       "3"
      ]
     },
     "execution_count": 1,
     "metadata": {},
     "output_type": "execute_result"
    }
   ],
   "source": [
    "# program to check wheather given matrix is a magic square or not \n",
    "mat=[[1,2,3],[4,5,6],[7,8,9]]\n",
    "n=len(mat)"
   ]
  },
  {
   "cell_type": "code",
   "execution_count": 11,
   "metadata": {},
   "outputs": [
    {
     "name": "stdout",
     "output_type": "stream",
     "text": [
      "15\n",
      "magic square\n"
     ]
    }
   ],
   "source": [
    "def magic(mat):\n",
    "    \n",
    "    n=len(mat)\n",
    "    # to check sum of prime diaognaldiaognal\n",
    "    s=0 \n",
    "    for i in range(n):\n",
    "        s=s+mat[i][i]\n",
    "    print(s)\n",
    "    #to check sum of opposite diognal\n",
    "    s1=0\n",
    "    for i in range(n):\n",
    "        s1=s1+mat[i][n-i-1]\n",
    "    if s!=s1:\n",
    "        return false\n",
    "    # now checking sum of columns\n",
    "    for i in range(n):\n",
    "        col=0\n",
    "        for j in range(n):\n",
    "            col=col+mat[j][i]\n",
    "        if s!=col:\n",
    "            return False\n",
    "    return True \n",
    "\n",
    "    # oppo\n",
    "    # program to check wheather given matrix is a magic square or not \n",
    "# mat=[[1,2,3],[4,5,6],[7,8,9]]\n",
    "mat = [ [ 2, 7, 6 ], \n",
    "        [ 9, 5, 1 ], \n",
    "        [ 4, 3, 8 ] ] \n",
    "      \n",
    "if (magic(mat)):\n",
    "    print(\"magic square\")\n",
    "else:\n",
    "    print(\"not magic square\")"
   ]
  },
  {
   "cell_type": "code",
   "execution_count": 13,
   "metadata": {},
   "outputs": [
    {
     "name": "stdout",
     "output_type": "stream",
     "text": [
      "[[0, 0, 0], [0, 0, 0], [0, 0, 0]]\n"
     ]
    }
   ],
   "source": [
    "n=3\n",
    "magicsquare = [[0 for x in range(n)] for y in range(n)] \n",
    "print(magicsquare)"
   ]
  },
  {
   "cell_type": "code",
   "execution_count": 10,
   "metadata": {},
   "outputs": [
    {
     "name": "stdout",
     "output_type": "stream",
     "text": [
      "4 ====================\n",
      "\n",
      "4 5 ====================\n",
      "\n",
      "4 5 6 ====================\n",
      "\n",
      "4 5 6 7 ====================\n",
      "\n",
      "4 5 6 7 8 ====================\n",
      "\n",
      "4 5 6 7 8 9 ====================\n",
      "\n",
      "4 5 6 7 8 9 10 ====================\n",
      "\n",
      "5 ====================\n",
      "\n",
      "5 6 ====================\n",
      "\n",
      "5 6 7 ====================\n",
      "\n",
      "5 6 7 8 ====================\n",
      "\n",
      "5 6 7 8 9 ====================\n",
      "\n",
      "5 6 7 8 9 10 ====================\n",
      "\n",
      "6 ====================\n",
      "\n",
      "6 7 ====================\n",
      "\n",
      "6 7 8 ====================\n",
      "\n",
      "6 7 8 9 ====================\n",
      "\n",
      "6 7 8 9 10 ====================\n",
      "\n",
      "7 ====================\n",
      "\n",
      "7 8 ====================\n",
      "\n",
      "7 8 9 ====================\n",
      "\n",
      "7 8 9 10 ====================\n",
      "\n",
      "8 ====================\n",
      "\n",
      "8 9 ====================\n",
      "\n",
      "8 9 10 ====================\n",
      "\n",
      "9 ====================\n",
      "\n",
      "9 10 ====================\n",
      "\n",
      "10 ====================\n",
      "\n"
     ]
    }
   ],
   "source": [
    "# findind sub arrays in an given array \n",
    "arr=[4,5,6,7,8,9,10]\n",
    "n=len(arr)\n",
    "for i in range(n):\n",
    "    for j in range(i,n):\n",
    "          for k in range(i,j+1):\n",
    "                print(arr[k],end=\" \")\n",
    "          print(\"====================\")\n",
    "          print (\"\\n\",end=\"\") \n",
    "\n",
    "\n",
    "             \n",
    "             "
   ]
  },
  {
   "cell_type": "code",
   "execution_count": null,
   "metadata": {},
   "outputs": [],
   "source": []
  },
  {
   "cell_type": "code",
   "execution_count": null,
   "metadata": {},
   "outputs": [],
   "source": []
  },
  {
   "cell_type": "code",
   "execution_count": null,
   "metadata": {},
   "outputs": [],
   "source": []
  },
  {
   "cell_type": "code",
   "execution_count": null,
   "metadata": {},
   "outputs": [],
   "source": []
  },
  {
   "cell_type": "code",
   "execution_count": null,
   "metadata": {},
   "outputs": [],
   "source": []
  },
  {
   "cell_type": "code",
   "execution_count": null,
   "metadata": {},
   "outputs": [],
   "source": []
  },
  {
   "cell_type": "code",
   "execution_count": null,
   "metadata": {},
   "outputs": [],
   "source": []
  },
  {
   "cell_type": "code",
   "execution_count": null,
   "metadata": {},
   "outputs": [],
   "source": []
  },
  {
   "cell_type": "code",
   "execution_count": null,
   "metadata": {},
   "outputs": [],
   "source": []
  }
 ],
 "metadata": {
  "kernelspec": {
   "display_name": "Python 3",
   "language": "python",
   "name": "python3"
  },
  "language_info": {
   "codemirror_mode": {
    "name": "ipython",
    "version": 3
   },
   "file_extension": ".py",
   "mimetype": "text/x-python",
   "name": "python",
   "nbconvert_exporter": "python",
   "pygments_lexer": "ipython3",
   "version": "3.8.3"
  }
 },
 "nbformat": 4,
 "nbformat_minor": 4
}
