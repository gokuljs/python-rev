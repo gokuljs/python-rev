{
 "cells": [
  {
   "cell_type": "code",
   "execution_count": null,
   "metadata": {},
   "outputs": [],
   "source": [
    "s=\"51Pa*0Lp*0e\"\n",
    "print(s)\n",
    "n=len(s)\n",
    "i=0\n",
    "while(i<n-1):\n",
    "    if i>=n:\n",
    "        break\n",
    "    elif ord(s[i])>=49 and ord(s[i])<=57:\n",
    "        s[i]==0\n",
    "        i=i+1\n",
    "    elif (ord(s[i])>=97 and ord(s[i])<=97+26) and (ord(s[i+1])>=67 and ord(s[i+1])<=67+26):\n",
    "        swap(s[i],s[i+1])\n",
    "        s[i]=chr(ord(s[i])+ord('a'))\n",
    "        s[i+1]=chr(ord(s[i+1])+ord('a'))\n",
    "        i=i+2\n",
    "    else:\n",
    "        i=i+1\n",
    "print(s)\n",
    "            \n",
    "            \n",
    "            "
   ]
  },
  {
   "cell_type": "code",
   "execution_count": null,
   "metadata": {},
   "outputs": [],
   "source": []
  },
  {
   "cell_type": "code",
   "execution_count": null,
   "metadata": {},
   "outputs": [],
   "source": []
  }
 ],
 "metadata": {
  "kernelspec": {
   "display_name": "Python 3",
   "language": "python",
   "name": "python3"
  }
 },
 "nbformat": 4,
 "nbformat_minor": 4
}
