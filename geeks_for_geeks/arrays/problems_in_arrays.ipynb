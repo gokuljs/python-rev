{
 "cells": [
  {
   "cell_type": "code",
   "execution_count": 1,
   "metadata": {},
   "outputs": [
    {
     "name": "stdout",
     "output_type": "stream",
     "text": [
      "[10, 6, 5, 2]\n"
     ]
    }
   ],
   "source": [
    "# leaders in array problem \n",
    "# leader of element in an array means for a given particular element there should not be greater element in the array \n",
    "# list=[1,2,100,3,45,5,7,8,9,]\n",
    "list=[7,10,4,3,5,6,5,2]\n",
    "final=[]\n",
    "n=len(list)\n",
    "flag=False\n",
    "for i in range(n):\n",
    "    for j in range(i+1,n):\n",
    "        if list[i]>list[j]:\n",
    "            flag=True\n",
    "        elif list[i]<list[j]:\n",
    "            flag=False\n",
    "            break\n",
    "    if flag==True:\n",
    "        final.append(list[i])\n",
    "print(final)"
   ]
  },
  {
   "cell_type": "code",
   "execution_count": 2,
   "metadata": {},
   "outputs": [
    {
     "name": "stdout",
     "output_type": "stream",
     "text": [
      "[0, 4100, 4211, 4222, 4235, 4255, 4267, 4270, 4288, 4290, 4311, 4314, 4315, 4316, 4316, 4318, 4319, 4320, -4100, 0, 111, 122, 135, 155, 167, 170, 188, 190, 211, 214, 215, 216, 216, 218, 219, 220, -4211, -111, 0, 11, 24, 44, 56, 59, 77, 79, 100, 103, 104, 105, 105, 107, 108, 109, -4222, -122, -11, 0, 13, 33, 45, 48, 66, 68, 89, 92, 93, 94, 94, 96, 97, 98, -4235, -135, -24, -13, 0, 20, 32, 35, 53, 55, 76, 79, 80, 81, 81, 83, 84, 85, -4255, -155, -44, -33, -20, 0, 12, 15, 33, 35, 56, 59, 60, 61, 61, 63, 64, 65, -4267, -167, -56, -45, -32, -12, 0, 3, 21, 23, 44, 47, 48, 49, 49, 51, 52, 53, -4270, -170, -59, -48, -35, -15, -3, 0, 18, 20, 41, 44, 45, 46, 46, 48, 49, 50, -4288, -188, -77, -66, -53, -33, -21, -18, 0, 2, 23, 26, 27, 28, 28, 30, 31, 32, -4290, -190, -79, -68, -55, -35, -23, -20, -2, 0, 21, 24, 25, 26, 26, 28, 29, 30, -4311, -211, -100, -89, -76, -56, -44, -41, -23, -21, 0, 3, 4, 5, 5, 7, 8, 9, -4314, -214, -103, -92, -79, -59, -47, -44, -26, -24, -3, 0, 1, 2, 2, 4, 5, 6, -4315, -215, -104, -93, -80, -60, -48, -45, -27, -25, -4, -1, 0, 1, 1, 3, 4, 5, -4316, -216, -105, -94, -81, -61, -49, -46, -28, -26, -5, -2, -1, 0, 0, 2, 3, 4, -4316, -216, -105, -94, -81, -61, -49, -46, -28, -26, -5, -2, -1, 0, 0, 2, 3, 4, -4318, -218, -107, -96, -83, -63, -51, -48, -30, -28, -7, -4, -3, -2, -2, 0, 1, 2, -4319, -219, -108, -97, -84, -64, -52, -49, -31, -29, -8, -5, -4, -3, -3, -1, 0, 1, -4320, -220, -109, -98, -85, -65, -53, -50, -32, -30, -9, -6, -5, -4, -4, -2, -1, 0]\n"
     ]
    }
   ],
   "source": [
    "# maximum diffrence problem \n",
    "list=[111,222,32,4322,55,52,6,67,8,11,2,4,6,7,87,100,3,34]\n",
    "n=len(list)\n",
    "temp=0\n",
    "for i in range(n):\n",
    "    for j in range(i+1,n):\n",
    "        if list[i]<list[j]:\n",
    "            temp=list[i]\n",
    "            list[i]=list[j]\n",
    "            list[j]=temp\n",
    "# print(list)\n",
    "final=[]\n",
    "for i in range(n):\n",
    "    for j in range(n):\n",
    "        k=list[i]-list[j]\n",
    "        final.append(k)\n",
    "        k=0\n",
    "print(final)\n",
    "        "
   ]
  },
  {
   "cell_type": "code",
   "execution_count": 3,
   "metadata": {},
   "outputs": [
    {
     "name": "stdout",
     "output_type": "stream",
     "text": [
      "[3, 4, 5, 7, 8, 9, 56, 66, 90, 100, 100]\n",
      "97\n"
     ]
    }
   ],
   "source": [
    "# maximum diffrence in the array \n",
    "list=[100,3,4,5,56,66,7,8,9,90,100];\n",
    "n=len(list)\n",
    "temp=0\n",
    "for i in range(n):\n",
    "    for j in range(n):\n",
    "        if list[i] < list[j]:\n",
    "            temp=list[j]\n",
    "            list[j]=list[i]\n",
    "            list[i]=temp\n",
    "print(list)\n",
    "# to get the maximum diffreence in the array \n",
    "k=list[n-1]-list[0]\n",
    "print(k)"
   ]
  },
  {
   "cell_type": "code",
   "execution_count": 4,
   "metadata": {},
   "outputs": [
    {
     "name": "stdout",
     "output_type": "stream",
     "text": [
      "[1, 1, 1, 1, 3, 4, 5, 5, 6, 6, 7, 8, 9, 87, 98]\n",
      "4 == 1\n",
      "1 == 3\n",
      "1 == 4\n",
      "2 == 5\n",
      "2 == 6\n",
      "1 == 7\n",
      "1 == 8\n",
      "1 == 9\n",
      "1 == 87\n"
     ]
    }
   ],
   "source": [
    "# frequency in sorted array \n",
    "a=[1,1,1,1,3,4,5,5,6,6,7,87,8,98,9]\n",
    "a.sort()\n",
    "print(a)\n",
    "n=len(a)\n",
    "feq=1\n",
    "i=1\n",
    "while(i<n):\n",
    "    while(i<n and a[i]==a[i-1]):\n",
    "        feq=feq+1\n",
    "        i=i+1\n",
    "    print(feq,\"==\",a[i-1])\n",
    "    i+=1\n",
    "    feq=1"
   ]
  },
  {
   "cell_type": "code",
   "execution_count": 5,
   "metadata": {},
   "outputs": [
    {
     "name": "stdout",
     "output_type": "stream",
     "text": [
      "[30]\n",
      "[10]\n",
      "20\n"
     ]
    }
   ],
   "source": [
    "# stock by and sell problem \n",
    "# normally they will give u stocks for next days\n",
    "# now i can buy it on any day and sell it on any day \n",
    "# one way of solving this \n",
    "# a=[1,5,3,8,12]\n",
    "a=[30,20,10]\n",
    "# a=[1,5,3,1,2,8]\n",
    "# a=[10,20,30]\n",
    "n=len(a)\n",
    "buy=[]\n",
    "sell=[]\n",
    "buy.append(a[0])\n",
    "\n",
    "for i in range(1,n-1):\n",
    "    if a[i]<a[i+1] and a[i]<a[i-1]:\n",
    "        buy.append(a[i])\n",
    "    elif a[i]>a[i+1] and a[i]>a[i-1]:\n",
    "        sell.append(a[i])\n",
    "sell.append(a[n-1])\n",
    "print(buy)\n",
    "print(sell)\n",
    "# z=len(buy)\n",
    "k=0\n",
    "for i in range(len(buy)):\n",
    "    k=k+buy[i]-sell[i]\n",
    "print(k)    \n",
    "    "
   ]
  },
  {
   "cell_type": "code",
   "execution_count": 6,
   "metadata": {},
   "outputs": [
    {
     "name": "stdout",
     "output_type": "stream",
     "text": [
      "7\n"
     ]
    }
   ],
   "source": [
    "# tapping rain problem \n",
    "# arr=[3,0,1,2,5]\n",
    "# arr=[2,0,2]\n",
    "# arr=[1,2,3,4,5,6,7,8]\n",
    "# arr=[5,4,3,2,1,6,7,8,9]\n",
    "# arr=[5,4,3,2,1]\n",
    "# arr= [0, 1, 0, 2, 1, 0, 1, 3, 2, 1, 2, 1]\n",
    "arr=[3, 0, 2, 0, 4]\n",
    "n=len(arr)\n",
    "start=arr[0]\n",
    "end=arr[n-1]\n",
    "k=min(start,end)\n",
    "sum=0;\n",
    "for i in range(1,n-1):\n",
    "    l=k-arr[i]\n",
    "    if l<0:\n",
    "        l=0\n",
    "    sum=sum+l\n",
    "    l=0\n",
    "print(sum)"
   ]
  },
  {
   "cell_type": "code",
   "execution_count": 7,
   "metadata": {},
   "outputs": [],
   "source": [
    "# maximum consecutive ones in an array \n",
    "# arr=[1,0,1,1,1,1,0,1,1,1,1,1,1,1,1,1,1,0,1]\n",
    "# arr=[0,1,1,0,1]\n",
    "arr=[1,0,1,1,1,1,0,1,1]\n",
    "# arr=[0,0,0]\n"
   ]
  },
  {
   "cell_type": "code",
   "execution_count": 8,
   "metadata": {},
   "outputs": [],
   "source": [
    "# x, y, z = [int(x) for x in input(\"Enter three value: \").split()] \n",
    "# "
   ]
  },
  {
   "cell_type": "code",
   "execution_count": 9,
   "metadata": {},
   "outputs": [
    {
     "name": "stdout",
     "output_type": "stream",
     "text": [
      "[1, 1, 2, 2, 2, 3, 3, 4, 5, 6, 9]\n",
      "9\n"
     ]
    },
    {
     "data": {
      "text/plain": [
       "[1, 1, 2, 2, 2, 3, 3, 4, 5, 6]"
      ]
     },
     "execution_count": 9,
     "metadata": {},
     "output_type": "execute_result"
    }
   ],
   "source": [
    "arr=[1,3,2,4,5,6,9,3,2,1,2]\n",
    "n=len(arr)\n",
    "temp=0\n",
    "for i in range(n):\n",
    "    for j in range(i+1,n):\n",
    "        if arr[i]>arr[j]:\n",
    "            temp=arr[i]\n",
    "            arr[i]=arr[j]\n",
    "            arr[j]=temp\n",
    "print(arr)\n",
    "max=0\n",
    "for i in range(n):\n",
    "    for j in range(i+1,n):\n",
    "        if arr[i]>arr[j]:\n",
    "            max=arr[i]\n",
    "        else:\n",
    "            max=arr[j]\n",
    "print(max)\n",
    "arr.remove(max)\n",
    "arr"
   ]
  },
  {
   "cell_type": "code",
   "execution_count": 10,
   "metadata": {},
   "outputs": [
    {
     "name": "stdout",
     "output_type": "stream",
     "text": [
      "[0, 1, 1, 1, 1, 1, 1, 1, 1, 1, 1, 1, 1, 1, 1, 1, 1, 1, 1, 1, 1, 1]\n"
     ]
    }
   ],
   "source": [
    "# consecutive ones in the given array \n",
    "a=[0,1,1,1,1,1,0,1,1,0,0,0,1,1,1,1,1,1,0,1,1,1]\n",
    "n=len(a)\n",
    "k=0\n",
    "final=[]\n",
    "for i in range(n):\n",
    "    for j in range(n):\n",
    "        if a[j]==1:\n",
    "            k=k+1\n",
    "        elif a[j]==0:\n",
    "            break\n",
    "    final.append(k)\n",
    "    k=1\n",
    "print(final)\n",
    "        "
   ]
  },
  {
   "cell_type": "code",
   "execution_count": 11,
   "metadata": {},
   "outputs": [
    {
     "name": "stdout",
     "output_type": "stream",
     "text": [
      "5\n"
     ]
    }
   ],
   "source": [
    "# median of two given numbers\n",
    "a=[1,2,3,4,5,6,7,8,9,]\n",
    "n=len(a)\n",
    "if n%2!=0:\n",
    "    print(a[n//2])\n",
    "else:\n",
    "    print((a[n-1]))\n",
    "    "
   ]
  },
  {
   "cell_type": "code",
   "execution_count": 12,
   "metadata": {},
   "outputs": [
    {
     "name": "stdout",
     "output_type": "stream",
     "text": [
      "100\n",
      "1000\n"
     ]
    }
   ],
   "source": [
    "arr=[1000,1000,1000,1000,1000,100]\n",
    "n=len(arr)\n",
    "arr.sort()\n",
    "max1=arr[0]\n",
    "smax=-1\n",
    "for i in range(n-1):\n",
    "    if max1<arr[i]:\n",
    "        smax=max1\n",
    "        max1=arr[i]\n",
    "print(smax)\n",
    "print(max1)"
   ]
  },
  {
   "cell_type": "code",
   "execution_count": 18,
   "metadata": {},
   "outputs": [
    {
     "name": "stdout",
     "output_type": "stream",
     "text": [
      "[3, 2, 1, 9832, 78, 4, 2345, 23, 23, 324542334, 232323, 323, 121, 212, 23122121, 1, 12, 212, 1, 12, 2, 13234234345345, 2, 21]\n"
     ]
    }
   ],
   "source": [
    "# reversing an array in groups \n",
    "arr=[1,2,3,4,78,9832,23,23,2345,323,232323,324542334,23122121,212,121,212,12,1,2,12,1,21,2,13234234345345]\n",
    "n=len(arr)\n",
    "i=0\n",
    "k=3\n",
    "while(i<n):\n",
    "    left=i\n",
    "    right=min(i+k-1,n-1)\n",
    "    while left<right:\n",
    "        arr[left],arr[right]=arr[right],arr[left]\n",
    "        left+=1\n",
    "        right-=1\n",
    "    i=i+k\n",
    "print(arr)"
   ]
  },
  {
   "cell_type": "code",
   "execution_count": 2,
   "metadata": {},
   "outputs": [
    {
     "name": "stdout",
     "output_type": "stream",
     "text": [
      "5\n"
     ]
    }
   ],
   "source": [
    "#  gcd of two numbers \n",
    "num1=25\n",
    "num2=5\n",
    "i=1\n",
    "while (i<=num1 and i<=num2):\n",
    "    if num1%i==0 and num2%i==0:\n",
    "        gcd=i\n",
    "    i=i+1\n",
    "print(gcd)\n"
   ]
  },
  {
   "cell_type": "code",
   "execution_count": null,
   "metadata": {},
   "outputs": [],
   "source": []
  },
  {
   "cell_type": "code",
   "execution_count": null,
   "metadata": {},
   "outputs": [],
   "source": []
  },
  {
   "cell_type": "code",
   "execution_count": null,
   "metadata": {},
   "outputs": [],
   "source": []
  },
  {
   "cell_type": "code",
   "execution_count": null,
   "metadata": {},
   "outputs": [],
   "source": []
  },
  {
   "cell_type": "code",
   "execution_count": null,
   "metadata": {},
   "outputs": [],
   "source": []
  },
  {
   "cell_type": "code",
   "execution_count": null,
   "metadata": {},
   "outputs": [],
   "source": []
  },
  {
   "cell_type": "code",
   "execution_count": null,
   "metadata": {},
   "outputs": [],
   "source": []
  },
  {
   "cell_type": "code",
   "execution_count": null,
   "metadata": {},
   "outputs": [],
   "source": []
  },
  {
   "cell_type": "code",
   "execution_count": null,
   "metadata": {},
   "outputs": [],
   "source": []
  },
  {
   "cell_type": "code",
   "execution_count": null,
   "metadata": {},
   "outputs": [],
   "source": []
  },
  {
   "cell_type": "code",
   "execution_count": null,
   "metadata": {},
   "outputs": [],
   "source": []
  },
  {
   "cell_type": "code",
   "execution_count": null,
   "metadata": {},
   "outputs": [],
   "source": []
  }
 ],
 "metadata": {
  "kernelspec": {
   "display_name": "Python 3",
   "language": "python",
   "name": "python3"
  },
  "language_info": {
   "codemirror_mode": {
    "name": "ipython",
    "version": 3
   },
   "file_extension": ".py",
   "mimetype": "text/x-python",
   "name": "python",
   "nbconvert_exporter": "python",
   "pygments_lexer": "ipython3",
   "version": "3.8.3"
  }
 },
 "nbformat": 4,
 "nbformat_minor": 4
}
