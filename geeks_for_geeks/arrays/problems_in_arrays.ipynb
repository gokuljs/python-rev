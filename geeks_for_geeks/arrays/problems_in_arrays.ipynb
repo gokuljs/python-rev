{
 "cells": [
  {
   "cell_type": "code",
   "execution_count": 1,
   "metadata": {},
   "outputs": [],
   "source": [
    "# leaders in array problem \n",
    "# leader of element in an array means for a given particular element there should not be greater element in the array \n",
    "# list=[1,2,100,3,45,5,7,8,9,]\n",
    "list=[7,10,4,3,5,6,5,2]\n",
    "final=[]\n",
    "n=len(list)\n",
    "flag=False\n",
    "for i in range(n):\n",
    "    for j in range(i+1,n):\n",
    "        if list[i]>list[j]:\n",
    "            flag=True\n",
    "        elif list[i]<list[j]:\n",
    "            flag=False\n",
    "            break\n",
    "    if flag==True:\n",
    "        final.append(list[i])\n",
    "print(final)"
   ]
  },
  {
   "cell_type": "code",
   "execution_count": 2,
   "metadata": {},
   "outputs": [],
   "source": [
    "# maximum diffrence problem \n",
    "list=[111,222,32,4322,55,52,6,67,8,11,2,4,6,7,87,100,3,34]\n",
    "n=len(list)\n",
    "temp=0\n",
    "for i in range(n):\n",
    "    for j in range(i+1,n):\n",
    "        if list[i]<list[j]:\n",
    "            temp=list[i]\n",
    "            list[i]=list[j]\n",
    "            list[j]=temp\n",
    "# print(list)\n",
    "final=[]\n",
    "for i in range(n):\n",
    "    for j in range(n):\n",
    "        k=list[i]-list[j]\n",
    "        final.append(k)\n",
    "        k=0\n",
    "print(final)\n",
    "        "
   ]
  },
  {
   "cell_type": "code",
   "execution_count": 3,
   "metadata": {},
   "outputs": [
    {
     "name": "stdout",
     "output_type": "stream",
     "text": [
      "[3, 4, 5, 7, 8, 9, 56, 66, 90, 100, 100]\n",
      "97\n"
     ]
    }
   ],
   "source": [
    "# maximum diffrence in the array \n",
    "list=[100,3,4,5,56,66,7,8,9,90,100];\n",
    "n=len(list)\n",
    "temp=0\n",
    "for i in range(n):\n",
    "    for j in range(n):\n",
    "        if list[i] < list[j]:\n",
    "            temp=list[j]\n",
    "            list[j]=list[i]\n",
    "            list[i]=temp\n",
    "print(list)\n",
    "# to get the maximum diffreence in the array \n",
    "k=list[n-1]-list[0]\n",
    "print(k)"
   ]
  },
  {
   "cell_type": "code",
   "execution_count": 4,
   "metadata": {},
   "outputs": [
    {
     "name": "stdout",
     "output_type": "stream",
     "text": [
      "[1, 1, 1, 1, 3, 4, 5, 5, 6, 6, 7, 8, 9, 87, 98]\n",
      "4 == 1\n",
      "1 == 3\n",
      "1 == 4\n",
      "2 == 5\n",
      "2 == 6\n",
      "1 == 7\n",
      "1 == 8\n",
      "1 == 9\n",
      "1 == 87\n"
     ]
    }
   ],
   "source": [
    "# frequency in sorted array \n",
    "a=[1,1,1,1,3,4,5,5,6,6,7,87,8,98,9]\n",
    "a.sort()\n",
    "print(a)\n",
    "n=len(a)\n",
    "feq=1\n",
    "i=1\n",
    "while(i<n):\n",
    "    while(i<n and a[i]==a[i-1]):\n",
    "        feq=feq+1\n",
    "        i=i+1\n",
    "    print(feq,\"==\",a[i-1])\n",
    "    i+=1\n",
    "    feq=1"
   ]
  },
  {
   "cell_type": "code",
   "execution_count": 5,
   "metadata": {},
   "outputs": [
    {
     "name": "stdout",
     "output_type": "stream",
     "text": [
      "[30]\n",
      "[10]\n",
      "20\n"
     ]
    }
   ],
   "source": [
    "# stock by and sell problem \n",
    "# normally they will give u stocks for next days\n",
    "# now i can buy it on any day and sell it on any day \n",
    "# one way of solving this \n",
    "# a=[1,5,3,8,12]\n",
    "a=[30,20,10]\n",
    "# a=[1,5,3,1,2,8]\n",
    "# a=[10,20,30]\n",
    "n=len(a)\n",
    "buy=[]\n",
    "sell=[]\n",
    "buy.append(a[0])\n",
    "\n",
    "for i in range(1,n-1):\n",
    "    if a[i]<a[i+1] and a[i]<a[i-1]:\n",
    "        buy.append(a[i])\n",
    "    elif a[i]>a[i+1] and a[i]>a[i-1]:\n",
    "        sell.append(a[i])\n",
    "sell.append(a[n-1])\n",
    "print(buy)\n",
    "print(sell)\n",
    "# z=len(buy)\n",
    "k=0\n",
    "for i in range(len(buy)):\n",
    "    k=k+buy[i]-sell[i]\n",
    "print(k)    \n",
    "    "
   ]
  },
  {
   "cell_type": "code",
   "execution_count": 6,
   "metadata": {},
   "outputs": [
    {
     "name": "stdout",
     "output_type": "stream",
     "text": [
      "7\n"
     ]
    }
   ],
   "source": [
    "# tapping rain problem \n",
    "# arr=[3,0,1,2,5]\n",
    "# arr=[2,0,2]\n",
    "# arr=[1,2,3,4,5,6,7,8]\n",
    "# arr=[5,4,3,2,1,6,7,8,9]\n",
    "# arr=[5,4,3,2,1]\n",
    "# arr= [0, 1, 0, 2, 1, 0, 1, 3, 2, 1, 2, 1]\n",
    "arr=[3, 0, 2, 0, 4]\n",
    "n=len(arr)\n",
    "start=arr[0]\n",
    "end=arr[n-1]\n",
    "k=min(start,end)\n",
    "sum=0;\n",
    "for i in range(1,n-1):\n",
    "    l=k-arr[i]\n",
    "    if l<0:\n",
    "        l=0\n",
    "    sum=sum+l\n",
    "    l=0\n",
    "print(sum)"
   ]
  },
  {
   "cell_type": "code",
   "execution_count": 7,
   "metadata": {},
   "outputs": [],
   "source": [
    "# maximum consecutive ones in an array \n",
    "# arr=[1,0,1,1,1,1,0,1,1,1,1,1,1,1,1,1,1,0,1]\n",
    "# arr=[0,1,1,0,1]\n",
    "arr=[1,0,1,1,1,1,0,1,1]\n",
    "# arr=[0,0,0]\n"
   ]
  },
  {
   "cell_type": "code",
   "execution_count": 8,
   "metadata": {},
   "outputs": [],
   "source": [
    "# x, y, z = [int(x) for x in input(\"Enter three value: \").split()] \n",
    "# "
   ]
  },
  {
   "cell_type": "code",
   "execution_count": 9,
   "metadata": {},
   "outputs": [
    {
     "name": "stdout",
     "output_type": "stream",
     "text": [
      "[1, 1, 2, 2, 2, 3, 3, 4, 5, 6, 9]\n",
      "9\n"
     ]
    },
    {
     "data": {
      "text/plain": [
       "[1, 1, 2, 2, 2, 3, 3, 4, 5, 6]"
      ]
     },
     "execution_count": 9,
     "metadata": {},
     "output_type": "execute_result"
    }
   ],
   "source": [
    "arr=[1,3,2,4,5,6,9,3,2,1,2]\n",
    "n=len(arr)\n",
    "temp=0\n",
    "for i in range(n):\n",
    "    for j in range(i+1,n):\n",
    "        if arr[i]>arr[j]:\n",
    "            temp=arr[i]\n",
    "            arr[i]=arr[j]\n",
    "            arr[j]=temp\n",
    "print(arr)\n",
    "max=0\n",
    "for i in range(n):\n",
    "    for j in range(i+1,n):\n",
    "        if arr[i]>arr[j]:\n",
    "            max=arr[i]\n",
    "        else:\n",
    "            max=arr[j]\n",
    "print(max)\n",
    "arr.remove(max)\n",
    "arr"
   ]
  },
  {
   "cell_type": "code",
   "execution_count": 10,
   "metadata": {},
   "outputs": [
    {
     "name": "stdout",
     "output_type": "stream",
     "text": [
      "[0, 1, 1, 1, 1, 1, 1, 1, 1, 1, 1, 1, 1, 1, 1, 1, 1, 1, 1, 1, 1, 1]\n"
     ]
    }
   ],
   "source": [
    "# consecutive ones in the given array \n",
    "a=[0,1,1,1,1,1,0,1,1,0,0,0,1,1,1,1,1,1,0,1,1,1]\n",
    "n=len(a)\n",
    "k=0\n",
    "final=[]\n",
    "for i in range(n):\n",
    "    for j in range(n):\n",
    "        if a[j]==1:\n",
    "            k=k+1\n",
    "        elif a[j]==0:\n",
    "            break\n",
    "    final.append(k)\n",
    "    k=1\n",
    "print(final)\n",
    "        "
   ]
  },
  {
   "cell_type": "code",
   "execution_count": 11,
   "metadata": {},
   "outputs": [
    {
     "name": "stdout",
     "output_type": "stream",
     "text": [
      "5\n"
     ]
    }
   ],
   "source": [
    "# median of two given numbers\n",
    "a=[1,2,3,4,5,6,7,8,9,]\n",
    "n=len(a)\n",
    "if n%2!=0:\n",
    "    print(a[n//2])\n",
    "else:\n",
    "    print((a[n-1]))\n",
    "    "
   ]
  },
  {
   "cell_type": "code",
   "execution_count": 12,
   "metadata": {},
   "outputs": [
    {
     "name": "stdout",
     "output_type": "stream",
     "text": [
      "100\n",
      "1000\n"
     ]
    }
   ],
   "source": [
    "arr=[1000,1000,1000,1000,1000,100]\n",
    "n=len(arr)\n",
    "arr.sort()\n",
    "max1=arr[0]\n",
    "smax=-1\n",
    "for i in range(n-1):\n",
    "    if max1<arr[i]:\n",
    "        smax=max1\n",
    "        max1=arr[i]\n",
    "print(smax)\n",
    "print(max1)"
   ]
  },
  {
   "cell_type": "code",
   "execution_count": 13,
   "metadata": {},
   "outputs": [
    {
     "name": "stdout",
     "output_type": "stream",
     "text": [
      "[3, 2, 1, 9832, 78, 4, 2345, 23, 23, 324542334, 232323, 323, 121, 212, 23122121, 1, 12, 212, 1, 12, 2, 13234234345345, 2, 21]\n"
     ]
    }
   ],
   "source": [
    "# reversing an array in groups \n",
    "arr=[1,2,3,4,78,9832,23,23,2345,323,232323,324542334,23122121,212,121,212,12,1,2,12,1,21,2,13234234345345]\n",
    "n=len(arr)\n",
    "i=0\n",
    "k=3\n",
    "while(i<n):\n",
    "    left=i\n",
    "    right=min(i+k-1,n-1)\n",
    "    while left<right:\n",
    "        arr[left],arr[right]=arr[right],arr[left]\n",
    "        left+=1\n",
    "        right-=1\n",
    "    i=i+k\n",
    "print(arr)"
   ]
  },
  {
   "cell_type": "code",
   "execution_count": 14,
   "metadata": {},
   "outputs": [
    {
     "name": "stdout",
     "output_type": "stream",
     "text": [
      "1\n"
     ]
    }
   ],
   "source": [
    "#  gcd of two numbers \n",
    "num1=2\n",
    "num2=1\n",
    "\n",
    "i=1\n",
    "while (i<=num1 and i<=num2):\n",
    "    if num1%i==0 and num2%i==0:\n",
    "        gcd=i\n",
    "    i=i+1\n",
    "print(gcd)\n"
   ]
  },
  {
   "cell_type": "code",
   "execution_count": 15,
   "metadata": {},
   "outputs": [
    {
     "ename": "TypeError",
     "evalue": "'int' object is not callable",
     "output_type": "error",
     "traceback": [
      "\u001b[1;31m---------------------------------------------------------------------------\u001b[0m",
      "\u001b[1;31mTypeError\u001b[0m                                 Traceback (most recent call last)",
      "\u001b[1;32m<ipython-input-15-2b9e2ddf2879>\u001b[0m in \u001b[0;36m<module>\u001b[1;34m\u001b[0m\n\u001b[0;32m      2\u001b[0m \u001b[0mx\u001b[0m\u001b[1;33m=\u001b[0m\u001b[1;36m2\u001b[0m\u001b[1;33m\u001b[0m\u001b[1;33m\u001b[0m\u001b[0m\n\u001b[0;32m      3\u001b[0m \u001b[0my\u001b[0m\u001b[1;33m=\u001b[0m\u001b[1;36m3\u001b[0m\u001b[1;33m\u001b[0m\u001b[1;33m\u001b[0m\u001b[0m\n\u001b[1;32m----> 4\u001b[1;33m \u001b[0mgreater\u001b[0m\u001b[1;33m=\u001b[0m\u001b[0mmax\u001b[0m\u001b[1;33m(\u001b[0m\u001b[0mx\u001b[0m\u001b[1;33m,\u001b[0m\u001b[0my\u001b[0m\u001b[1;33m)\u001b[0m\u001b[1;33m\u001b[0m\u001b[1;33m\u001b[0m\u001b[0m\n\u001b[0m\u001b[0;32m      5\u001b[0m \u001b[0mlcm\u001b[0m\u001b[1;33m=\u001b[0m\u001b[1;36m0\u001b[0m\u001b[1;33m\u001b[0m\u001b[1;33m\u001b[0m\u001b[0m\n\u001b[0;32m      6\u001b[0m \u001b[1;32mwhile\u001b[0m\u001b[1;33m(\u001b[0m\u001b[1;32mTrue\u001b[0m\u001b[1;33m)\u001b[0m\u001b[1;33m:\u001b[0m\u001b[1;33m\u001b[0m\u001b[1;33m\u001b[0m\u001b[0m\n",
      "\u001b[1;31mTypeError\u001b[0m: 'int' object is not callable"
     ]
    }
   ],
   "source": [
    "# lcm of two numbers\n",
    "x=2\n",
    "y=3\n",
    "greater=max(x,y)\n",
    "lcm=0\n",
    "while(True):\n",
    "    if greater%x==0 and greater%y==0:\n",
    "        lcm=greater\n",
    "        break\n",
    "    greater=greater+1\n",
    "print(lcm)"
   ]
  },
  {
   "cell_type": "code",
   "execution_count": null,
   "metadata": {},
   "outputs": [],
   "source": [
    "# hw to get gcd  of array numbers\n",
    "def gcd1(num1,num2):\n",
    "    i=1\n",
    "    while (i<=num1 and i<=num2):\n",
    "        if num1%i==0 and num2%i==0:\n",
    "            gcd=i\n",
    "        i=i+1\n",
    "    return gcd\n",
    "l=[2,4,6,8,16]\n",
    "num1=l[0]\n",
    "num2=l[1]\n",
    "gcd=gcd1(num1,num2)\n",
    "for i in range(2,len(l)):\n",
    "    gcd=gcd1(gcd,l[i])\n",
    "print(gcd)"
   ]
  },
  {
   "cell_type": "code",
   "execution_count": null,
   "metadata": {},
   "outputs": [],
   "source": [
    "def lcm1(x,y):\n",
    "    greater=max(x,y)\n",
    "    while(True):\n",
    "        if greater%x==0 and greater%y==0:\n",
    "            lcm=greater\n",
    "            break\n",
    "        greater=greater+1\n",
    "    \n",
    "    return lcm\n",
    "l=[2,4,6,8,16]\n",
    "x=l[0]\n",
    "y=l[1]\n",
    "lcm=lcm1(x,y)\n",
    "for i in range(2,len(l)):\n",
    "    lcm=lcm1(lcm,l[i])\n",
    "print(lcm)\n",
    "    "
   ]
  },
  {
   "cell_type": "code",
   "execution_count": 16,
   "metadata": {},
   "outputs": [
    {
     "name": "stdout",
     "output_type": "stream",
     "text": [
      "1 2 3 4 5 6 7 8 9 10\n"
     ]
    }
   ],
   "source": [
    "s=[int(ele) for ele in input().split()]"
   ]
  },
  {
   "cell_type": "code",
   "execution_count": 17,
   "metadata": {},
   "outputs": [
    {
     "data": {
      "text/plain": [
       "[1, 2, 3, 4, 5, 6, 7, 8, 9, 10]"
      ]
     },
     "execution_count": 17,
     "metadata": {},
     "output_type": "execute_result"
    }
   ],
   "source": [
    "s"
   ]
  },
  {
   "cell_type": "code",
   "execution_count": null,
   "metadata": {},
   "outputs": [],
   "source": []
  },
  {
   "cell_type": "code",
   "execution_count": null,
   "metadata": {},
   "outputs": [],
   "source": [
    "# birtday chocklate \n",
    "n=int(input(\"enetr the size of the chocklate\"))\n",
    "s=[int(ele) for ele in input().split()]\n",
    "d,m=input().split()\n",
    "d=int(d)\n",
    "m=int(m)\n",
    "count=0\n",
    "print(d)\n",
    "for i in range(0,n-m+1):\n",
    "    if sum(s[i:i+m])==d:\n",
    "        count=count+1\n",
    "print(count)"
   ]
  },
  {
   "cell_type": "code",
   "execution_count": 1,
   "metadata": {},
   "outputs": [
    {
     "name": "stdout",
     "output_type": "stream",
     "text": [
      "[1, 3, 4, 4, 4, 5]\n",
      "{1: 1, 3: 1, 4: 3, 5: 1}\n"
     ]
    }
   ],
   "source": [
    "# migrating birds \n",
    "arr=[1,3,4,4,4,5]\n",
    "n=len(arr)\n",
    "arr.sort()\n",
    "count=0\n",
    "final={}\n",
    "    # counter=[]\n",
    "print(arr)\n",
    "for i in range(n):\n",
    "    for j in range(n):\n",
    "        if arr[i]==arr[j]:\n",
    "            count=count+1\n",
    "    if arr[i] not in final:\n",
    "        final[arr[i]]=count\n",
    "       \n",
    "    count=0\n",
    "print(final)\n",
    "    # print(len(final))\n",
    "# for i in range(len(final)):\n",
    "#     if final[i]==max(final.values()):\n",
    "         "
   ]
  },
  {
   "cell_type": "code",
   "execution_count": 2,
   "metadata": {},
   "outputs": [
    {
     "name": "stdout",
     "output_type": "stream",
     "text": [
      "4\n"
     ]
    }
   ],
   "source": [
    "print(len(final))"
   ]
  },
  {
   "cell_type": "code",
   "execution_count": 6,
   "metadata": {},
   "outputs": [
    {
     "name": "stdout",
     "output_type": "stream",
     "text": [
      "dict_items([(1, 1), (3, 1), (4, 3), (5, 1)])\n"
     ]
    }
   ],
   "source": [
    "print(final.items())"
   ]
  },
  {
   "cell_type": "code",
   "execution_count": 7,
   "metadata": {},
   "outputs": [
    {
     "data": {
      "text/plain": [
       "dict_items([(1, 1), (3, 1), (4, 3), (5, 1)])"
      ]
     },
     "execution_count": 7,
     "metadata": {},
     "output_type": "execute_result"
    }
   ],
   "source": [
    "final.items()"
   ]
  },
  {
   "cell_type": "code",
   "execution_count": 10,
   "metadata": {},
   "outputs": [
    {
     "ename": "AttributeError",
     "evalue": "'dict' object has no attribute 'key'",
     "output_type": "error",
     "traceback": [
      "\u001b[1;31m---------------------------------------------------------------------------\u001b[0m",
      "\u001b[1;31mAttributeError\u001b[0m                            Traceback (most recent call last)",
      "\u001b[1;32m<ipython-input-10-994e79f58343>\u001b[0m in \u001b[0;36m<module>\u001b[1;34m\u001b[0m\n\u001b[1;32m----> 1\u001b[1;33m \u001b[0mfinal\u001b[0m\u001b[1;33m.\u001b[0m\u001b[0mkey\u001b[0m\u001b[1;33m(\u001b[0m\u001b[1;36m3\u001b[0m\u001b[1;33m)\u001b[0m\u001b[1;33m\u001b[0m\u001b[1;33m\u001b[0m\u001b[0m\n\u001b[0m",
      "\u001b[1;31mAttributeError\u001b[0m: 'dict' object has no attribute 'key'"
     ]
    }
   ],
   "source": [
    "final.key(3)"
   ]
  },
  {
   "cell_type": "code",
   "execution_count": null,
   "metadata": {},
   "outputs": [],
   "source": [
    "final.get()"
   ]
  },
  {
   "cell_type": "code",
   "execution_count": 12,
   "metadata": {},
   "outputs": [
    {
     "name": "stdout",
     "output_type": "stream",
     "text": [
      "1\n",
      "1\n",
      "3\n",
      "1\n"
     ]
    }
   ],
   "source": [
    "for i in final:\n",
    "    print(final[i])"
   ]
  },
  {
   "cell_type": "code",
   "execution_count": 14,
   "metadata": {},
   "outputs": [
    {
     "ename": "IndentationError",
     "evalue": "unexpected indent (<ipython-input-14-f6c4ad30e8a2>, line 3)",
     "output_type": "error",
     "traceback": [
      "\u001b[1;36m  File \u001b[1;32m\"<ipython-input-14-f6c4ad30e8a2>\"\u001b[1;36m, line \u001b[1;32m3\u001b[0m\n\u001b[1;33m    n=len(arr)\u001b[0m\n\u001b[1;37m    ^\u001b[0m\n\u001b[1;31mIndentationError\u001b[0m\u001b[1;31m:\u001b[0m unexpected indent\n"
     ]
    }
   ],
   "source": [
    "# migrating words\n",
    "# optimized memory version/\n",
    "n=len(arr)\n",
    "final={}\n",
    "for i in range(n):\n",
    "    final[arr[i]]=arr.count(arr[i])\n",
    "# print(final)\n",
    "for i in final:\n",
    "    if final[i]==max(final.values()):\n",
    "            return(i)\n"
   ]
  },
  {
   "cell_type": "code",
   "execution_count": 15,
   "metadata": {},
   "outputs": [
    {
     "ename": "SyntaxError",
     "evalue": "'return' outside function (<ipython-input-15-8d53755366db>, line 4)",
     "output_type": "error",
     "traceback": [
      "\u001b[1;36m  File \u001b[1;32m\"<ipython-input-15-8d53755366db>\"\u001b[1;36m, line \u001b[1;32m4\u001b[0m\n\u001b[1;33m    return l.index(max(l))\u001b[0m\n\u001b[1;37m    ^\u001b[0m\n\u001b[1;31mSyntaxError\u001b[0m\u001b[1;31m:\u001b[0m 'return' outside function\n"
     ]
    }
   ],
   "source": [
    "\n",
    "    l=[0]*len(arr)\n",
    "    for i in range(len(arr)):\n",
    "        l[arr[i]] +=1\n",
    "    return l.index(max(l))"
   ]
  },
  {
   "cell_type": "code",
   "execution_count": 21,
   "metadata": {},
   "outputs": [
    {
     "name": "stdout",
     "output_type": "stream",
     "text": [
      "[0, 6, 0, 44, 0, 0, 9, 7, 0, 0, 0, 0, 0, 0, 0, 0, 0, 0, 0, 0, 0, 0, 0, 0, 0, 0, 0, 0, 0, 0, 0, 0, 0, 0, 0, 0, 0, 0, 0, 0, 0, 0, 0, 0, 0, 0, 0, 0, 0, 0, 0, 0, 0, 0, 0, 0, 0, 0, 0, 0, 0, 0, 0, 0, 0, 0]\n"
     ]
    }
   ],
   "source": [
    "# arr=[1,1,1,1,1,1,3,3,3,3,3,3,3,3,3,3,3,3,3,3,3,3,3,3,3,3,3,3,3,3,3,3,3,3,3,3,3,3,3,3,3,3,3,3,3,3,3,3,3,3,6,6,6,6,6,6,6,6,6,7,7,7,7,7,7,7]\n",
    "l=[0]*len(arr)\n",
    "for i in range(len(arr)):\n",
    "    l[arr[i]] +=1 \n",
    "# l.index(max(l))\n",
    "print(l)"
   ]
  },
  {
   "cell_type": "code",
   "execution_count": null,
   "metadata": {},
   "outputs": [],
   "source": []
  },
  {
   "cell_type": "code",
   "execution_count": null,
   "metadata": {},
   "outputs": [],
   "source": []
  },
  {
   "cell_type": "code",
   "execution_count": null,
   "metadata": {},
   "outputs": [],
   "source": []
  },
  {
   "cell_type": "code",
   "execution_count": null,
   "metadata": {},
   "outputs": [],
   "source": []
  }
 ],
 "metadata": {
  "kernelspec": {
   "display_name": "Python 3",
   "language": "python",
   "name": "python3"
  },
  "language_info": {
   "codemirror_mode": {
    "name": "ipython",
    "version": 3
   },
   "file_extension": ".py",
   "mimetype": "text/x-python",
   "name": "python",
   "nbconvert_exporter": "python",
   "pygments_lexer": "ipython3",
   "version": "3.8.3"
  }
 },
 "nbformat": 4,
 "nbformat_minor": 4
}
