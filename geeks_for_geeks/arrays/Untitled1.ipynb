{
 "cells": [
  {
   "cell_type": "code",
   "execution_count": 8,
   "metadata": {},
   "outputs": [
    {
     "name": "stdout",
     "output_type": "stream",
     "text": [
      "0\n"
     ]
    }
   ],
   "source": [
    "# consecutives in the given array \n",
    "# a=[0,1,1,1,1,1,0,1,1,0,1,1,0,1,1,1,1,1,1,1,0]\n",
    "# a=[1,0,1,0,1]\n",
    "a=[0,0,0,0,0,0,0]\n",
    "n=len(a)\n",
    "final=[]\n",
    "k=0\n",
    "for i in range(n):\n",
    "    for j in range(i,n):\n",
    "        if a[j]==1:\n",
    "            k=k+1\n",
    "        elif a[j]==0:\n",
    "            break\n",
    "    final.append(k)\n",
    "    k=0\n",
    "print(max(final))"
   ]
  },
  {
   "cell_type": "code",
   "execution_count": 21,
   "metadata": {},
   "outputs": [
    {
     "name": "stdout",
     "output_type": "stream",
     "text": [
      "-1\n"
     ]
    }
   ],
   "source": [
    "# maximum sum subarray problem \n",
    "# arr=[1,-2,3,-1,2]\n",
    "# arr=[5,8,3]\n",
    "arr=[-6,-1,-8]\n",
    "n=len(arr)\n",
    "res=arr[0]\n",
    "for i in range(n):\n",
    "    cur=0\n",
    "    for j in range(i,n):\n",
    "        cur=cur+arr[i]\n",
    "        res=max(cur,res)\n",
    "print(res)\n"
   ]
  },
  {
   "cell_type": "code",
   "execution_count": 22,
   "metadata": {},
   "outputs": [
    {
     "ename": "SyntaxError",
     "evalue": "invalid syntax (<ipython-input-22-e8bb567028cb>, line 4)",
     "output_type": "error",
     "traceback": [
      "\u001b[1;36m  File \u001b[1;32m\"<ipython-input-22-e8bb567028cb>\"\u001b[1;36m, line \u001b[1;32m4\u001b[0m\n\u001b[1;33m    for i in range\u001b[0m\n\u001b[1;37m                  ^\u001b[0m\n\u001b[1;31mSyntaxError\u001b[0m\u001b[1;31m:\u001b[0m invalid syntax\n"
     ]
    }
   ],
   "source": [
    "# efficient solution\n",
    "arr=[-5,1,-2,3,-1,2,-2]\n",
    "n=len(arr)\n",
    "for i in range"
   ]
  },
  {
   "cell_type": "code",
   "execution_count": null,
   "metadata": {},
   "outputs": [],
   "source": [
    "arr=[-5,1,-2,3,-1,2,-2]\n",
    "n=len(arr)\n",
    "max_\n",
    "for i in range(n):\n",
    "    "
   ]
  }
 ],
 "metadata": {
  "kernelspec": {
   "display_name": "Python 3",
   "language": "python",
   "name": "python3"
  },
  "language_info": {
   "codemirror_mode": {
    "name": "ipython",
    "version": 3
   },
   "file_extension": ".py",
   "mimetype": "text/x-python",
   "name": "python",
   "nbconvert_exporter": "python",
   "pygments_lexer": "ipython3",
   "version": "3.8.3"
  }
 },
 "nbformat": 4,
 "nbformat_minor": 4
}
