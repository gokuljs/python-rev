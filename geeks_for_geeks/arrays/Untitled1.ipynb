{
 "cells": [
  {
   "cell_type": "code",
   "execution_count": null,
   "metadata": {},
   "outputs": [],
   "source": [
    "# consecutives in the given array \n",
    "a=[0,1,1,1,1,1,0,1,1,0,1,1,0,1,1,1,1,1,1,1,0]\n",
    "n=len(a)\n",
    "final=[]\n",
    "k=0\n",
    "for i in range(n):\n",
    "    for j in range(i,n):\n",
    "        if a[j]==1:\n",
    "            k=K+1\n",
    "        elif a[j]==0:\n",
    "            break\n",
    "    final.append(k)\n",
    "    k=0\n",
    "print(f)"
   ]
  }
 ],
 "metadata": {
  "kernelspec": {
   "display_name": "Python 3",
   "language": "python",
   "name": "python3"
  },
  "language_info": {
   "codemirror_mode": {
    "name": "ipython",
    "version": 3
   },
   "file_extension": ".py",
   "mimetype": "text/x-python",
   "name": "python",
   "nbconvert_exporter": "python",
   "pygments_lexer": "ipython3",
   "version": "3.8.3"
  }
 },
 "nbformat": 4,
 "nbformat_minor": 4
}
