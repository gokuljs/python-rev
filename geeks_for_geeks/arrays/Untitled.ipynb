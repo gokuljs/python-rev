{
 "cells": [
  {
   "cell_type": "code",
   "execution_count": 1,
   "metadata": {},
   "outputs": [],
   "source": [
    "#arrays\n",
    "# advantages \n",
    "#  cache friendliness\n",
    "# random acess "
   ]
  },
  {
   "cell_type": "code",
   "execution_count": 1,
   "metadata": {},
   "outputs": [],
   "source": [
    "#  they are of two types \n",
    "#  fixed size array \n",
    "# dynamic size array "
   ]
  },
  {
   "cell_type": "code",
   "execution_count": 2,
   "metadata": {},
   "outputs": [],
   "source": [
    "# dynamic sized arrays examples are \n",
    "# c++ vectors\n",
    "# java arraylist\n",
    "# python list\n",
    "#  dynamic sized arrays are type of arrays in with the size resizes itself"
   ]
  },
  {
   "cell_type": "code",
   "execution_count": 6,
   "metadata": {},
   "outputs": [
    {
     "name": "stdout",
     "output_type": "stream",
     "text": [
      "[7, 6, 5, 54, 4, 3, 2, 1]\n"
     ]
    }
   ],
   "source": [
    "# reversing an array \n",
    "list=[1,2,3,4,54,5,6,7]\n",
    "list1=[]\n",
    "n=len(list)\n",
    "temp=0\n",
    "k=0\n",
    "for i in range(n-1,-1,-1):\n",
    "    list1.append(list[i])\n",
    "#     k=k+1\n",
    "print(list1)\n",
    "    \n",
    "    "
   ]
  },
  {
   "cell_type": "code",
   "execution_count": 16,
   "metadata": {},
   "outputs": [
    {
     "name": "stdout",
     "output_type": "stream",
     "text": [
      "7\n",
      "[7, 6, 5, 54, 4, 3, 2, 1]\n"
     ]
    }
   ],
   "source": [
    "# other methodn for finding the the reverse of an array \n",
    "#  this method is faster than above method \n",
    "list=[1,2,3,4,54,5,6,7]\n",
    "low=0\n",
    "n=len(list)\n",
    "high=7\n",
    "print(list[7])\n",
    "temp=0\n",
    "while low<high:\n",
    "    temp=list[low]\n",
    "    list[low]=list[high]\n",
    "    list[high]=temp\n",
    "    low=low+1\n",
    "    high=high-1\n",
    "print(list)\n",
    "# if there are n elements in the array then it will run n/2 time of the loop"
   ]
  },
  {
   "cell_type": "code",
   "execution_count": 19,
   "metadata": {},
   "outputs": [
    {
     "name": "stdout",
     "output_type": "stream",
     "text": [
      "[54, 7, 6, 5, 4, 3, 2, 1]\n"
     ]
    }
   ],
   "source": [
    "# sorting in desending order\n",
    "def sort(list,n):\n",
    "    temp=0\n",
    "    for i in range(n):\n",
    "        for j in range(n):\n",
    "            if list[i]>list[j]:\n",
    "                    temp=list[i]\n",
    "                    list[i]=list[j]\n",
    "                    list[j]=temp\n",
    "    print(list)\n",
    "list=[1,2,3,4,54,5,6,7]\n",
    "n=len(list)\n",
    "sort(list,n)"
   ]
  },
  {
   "cell_type": "code",
   "execution_count": 22,
   "metadata": {},
   "outputs": [
    {
     "name": "stdout",
     "output_type": "stream",
     "text": [
      "list[i]=\n",
      "list[i]=\n",
      "list[i]=\n",
      "list[i]=\n",
      "list[i]=\n",
      "list[i]=\n",
      "list[i]=\n",
      "list[i]=\n",
      "list[i]=\n",
      "list[i]=\n",
      "list[i]=\n",
      "[1, 2, 3, 4, 5, 6, 7, 54]\n"
     ]
    }
   ],
   "source": [
    "# sorting in ascending order \n",
    "\n",
    "def sort(list,n):\n",
    "    temp=0\n",
    "    for i in range(n):# i=0\n",
    "        for j in range(n): # j=1\n",
    "            if list[i]<list[j]:\n",
    "                    temp=list[i]\n",
    "                    list[i]=list[j]\n",
    "                    print(\"list[i]=\")\n",
    "                    list[j]=temp\n",
    "    print(list)\n",
    "list=[1,2,3,4,54,5,6,7]\n",
    "n=len(list)\n",
    "sort(list,n)"
   ]
  },
  {
   "cell_type": "code",
   "execution_count": 30,
   "metadata": {},
   "outputs": [
    {
     "name": "stdout",
     "output_type": "stream",
     "text": [
      "[1, 2, 3, 4, 5, 6, 7, 8, 9, 10]\n"
     ]
    }
   ],
   "source": [
    "# removing duplicates from the givenm array \n",
    "list=[1,2,3,4,5,5,6,7,8,8,8,8,8,9,10]\n",
    "list1=[]\n",
    "n=len(list)\n",
    "for i in range(n):\n",
    "    if list[i] not in list1:\n",
    "        list1.append(list[i])\n",
    "print(list1)\n",
    "\n"
   ]
  },
  {
   "cell_type": "code",
   "execution_count": 34,
   "metadata": {},
   "outputs": [
    {
     "name": "stdout",
     "output_type": "stream",
     "text": [
      "[2, 3, 4, 54, 5, 6, 1, 1]\n"
     ]
    }
   ],
   "source": [
    "# left rotation of an array by one \n",
    "list=[1,2,3,4,54,5,6,7]\n",
    "n=len(list)\n",
    "temp=list[0]\n",
    "for i in range(n):\n",
    "    list[i-1]=list[i]\n",
    "list[n-1]=temp\n",
    "print(list)"
   ]
  },
  {
   "cell_type": "code",
   "execution_count": null,
   "metadata": {},
   "outputs": [],
   "source": []
  }
 ],
 "metadata": {
  "kernelspec": {
   "display_name": "Python 3",
   "language": "python",
   "name": "python3"
  },
  "language_info": {
   "codemirror_mode": {
    "name": "ipython",
    "version": 3
   },
   "file_extension": ".py",
   "mimetype": "text/x-python",
   "name": "python",
   "nbconvert_exporter": "python",
   "pygments_lexer": "ipython3",
   "version": "3.8.3"
  }
 },
 "nbformat": 4,
 "nbformat_minor": 4
}
